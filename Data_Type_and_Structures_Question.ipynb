{
  "nbformat": 4,
  "nbformat_minor": 0,
  "metadata": {
    "colab": {
      "provenance": []
    },
    "kernelspec": {
      "name": "python3",
      "display_name": "Python 3"
    },
    "language_info": {
      "name": "python"
    }
  },
  "cells": [
    {
      "cell_type": "markdown",
      "source": [],
      "metadata": {
        "id": "Jg7pDbhr3ZLy"
      }
    },
    {
      "cell_type": "markdown",
      "source": [
        "Q.1 What are data structures, and why are they important?\n",
        "Ans- In Python, data structures are essential constructs that organize and manage data efficiently. They include built-in types like lists, tuples, dictionaries, and sets, each serving unique purposes:\n",
        "\n",
        "Lists: Ordered, mutable collections allowing duplicate elements.\n",
        "\n",
        "Tuples: Ordered, immutable collections.\n",
        "\n",
        "Dictionaries: Unordered collections of key-value pairs for fast lookups.\n",
        "\n",
        "Sets: Unordered collections of unique elements.\n",
        "\n",
        "Choosing the appropriate data structure is crucial for writing efficient and effective Python code.\n",
        "\n",
        "Q.2  Explain the difference between mutable and immutable data types with examples?\n",
        "Ans- In Python, mutable and immutable data types differ in whether their values can be changed after creation.\n",
        "\n",
        "Mutable Data Types:Objects whose values can be modified after creation.\n",
        "Examples: Lists, dictionaries, sets.\n",
        "Example Code:\n",
        "my_list = [1, 2, 3]\n",
        "my_list[0] = 10  # Modifies the first element\n",
        "print(my_list)   # Output: [10, 2, 3]\n",
        "\n",
        "Immutable Data Types:Objects whose values cannot be changed once created.\n",
        "Examples: Strings, tuples, integers.\n",
        "Example Code:\n",
        "my_string = \"Hello\"\n",
        "my_string[0] = 'Y'  # Raises TypeError\n",
        "\n",
        "Attempting to modify an immutable object results in a TypeError.\n",
        "\n",
        "Q.3 What are the main differences between lists and tuples in Python?\n",
        "Ans- In Python, lists and tuples are both used to store collections of items, but they have key differences:\n",
        "\n",
        "a.Mutability:\n",
        "Lists are mutable; their elements can be changed after creation.\n",
        "Tuples are immutable; once created, their elements cannot be altered.\n",
        "\n",
        "b.Syntax:\n",
        "Lists are defined using square brackets: my_list = [1, 2, 3].\n",
        "Tuples are defined using parentheses: my_tuple = (1, 2, 3).\n",
        "\n",
        "c.Performance:\n",
        "Tuples can be slightly faster than lists due to their immutability.\n",
        "\n",
        "Q.4  Describe how dictionaries store data?\n",
        "Ans-In Python, dictionaries store data as key-value pairs using a hash table mechanism. This structure allows for efficient data retrieval based on unique keys.\n",
        "\n",
        "Q.5 Why might you use a set instead of a list in Python?\n",
        "Ans- n Python, choosing between a set and a list depends on the specific requirements of your application. Here are key considerations:\n",
        "\n",
        "a.Uniqueness of Elements:\n",
        "Set: Automatically enforces uniqueness; duplicate entries are not allowed.\n",
        "List: Allows duplicate elements.\n",
        "Use a set when you need to ensure all elements are unique.\n",
        "\n",
        "b.Membership Testing Performance:\n",
        "Set: Offers average O(1) time complexity for membership tests due to its hash-based implementation.\n",
        "List: Requires O(n) time complexity for membership tests, as it performs a linear search.\n",
        "Use a set for efficient membership testing, especially with large datasets.\n",
        "\n",
        "c.Order Preservation:\n",
        "Set: Unordered collection; does not maintain element insertion order.\n",
        "List: Ordered collection; maintains the sequence of elements as inserted.\n",
        "Use a list when the order of elements is important.\n",
        "\n",
        "d.Mutability:\n",
        "Set: Mutable; allows adding and removing elements, but elements must be immutable and hashable.\n",
        "List: Mutable; allows adding, removing, and modifying elements.\n",
        "Use a list when you need to modify elements directly.\n",
        "\n",
        "Q.6 What is a string in Python, and how is it different from a list?\n",
        "Ans- In Python, strings and lists are both sequences but differ in key ways:\n",
        "\n",
        "Mutability: Strings are immutable (cannot be changed after creation), while lists are mutable (can be modified).\n",
        "\n",
        "Element Types: Strings consist solely of characters, whereas lists can contain elements of any data type.\n",
        "\n",
        "Usage: Strings are used for textual data, while lists are versatile and can store various data types.\n",
        "\n",
        "Q.7 How do tuples ensure data integrity in Python?\n",
        "Ans- In Python, tuples are immutable sequences, meaning their elements cannot be changed after creation. This immutability ensures data integrity by preventing accidental modifications, making tuples ideal for storing constant data.\n",
        "\n",
        "Q.8 What is a hash table, and how does it relate to dictionaries in Python?\n",
        "Ans- A hash table is a data structure that maps keys to values using a hash function to compute an index into an array of buckets or slots, from which the desired value can be found.\n",
        "\n",
        "In Python, dictionaries are implemented using hash tables. This means that when you create a dictionary, Python uses a hash function to determine where to store each key-value pair, allowing for efficient lookups, insertions, and deletions.\n",
        "\n",
        "The hash function computes a hash value for each key, which determines the index in the underlying array where the value is stored. This design enables average-case constant time complexity, O(1), for operations like insertion and lookup.\n",
        "\n",
        "Q.9 Can lists contain different data types in Python?\n",
        "Ans-Yes, in Python, lists can contain elements of different data types. This flexibility allows you to store integers, strings, floats, and even other lists within a single list. For example:\n",
        "my_list = [1, \"hello\", 3.14, [2, 3]]\n",
        "\n",
        "Q.10 Explain why strings are immutable in Python?\n",
        "Ans- In Python, strings are immutable to ensure data integrity and security. Immutability means that once a string is created, its content cannot be altered. This design choice prevents unintended modifications, making strings reliable and thread-safe.\n",
        "\n",
        "Q.11 What advantages do dictionaries offer over lists for certain tasks?\n",
        "Ans- Key-Value Mapping: Dictionaries store data as key-value pairs, allowing for intuitive and direct associations between related pieces of information.\n",
        "\n",
        "Q.12  Describe a scenario where using a tuple would be preferable over a list?\n",
        "Ans- In Python, tuples are immutable sequences, making them ideal for storing data that should remain constant throughout the program. For example, representing a fixed set of RGB color values: color = (255, 0, 0)\n",
        "\n",
        "In this case, using a tuple ensures that the color values cannot be accidentally modified, preserving data integrity.\n",
        "Additionally, tuples are more memory-efficient and faster to access than lists, which can be beneficial when working with large datasets.\n",
        "\n",
        "Q.13 How do sets handle duplicate values in Python?\n",
        "Ans- In Python, sets automatically handle duplicate values by storing only unique elements. When you add an element to a set that already contains that element, the set remains unchanged, effectively discarding the duplicate.\n",
        "my_set = {1, 2, 3}\n",
        "my_set.add(2)  # Duplicate element\n",
        "print(my_set)  # Output: {1, 2, 3}\n",
        "\n",
        "This behavior makes sets useful for ensuring that a collection contains only unique items.\n",
        "\n",
        "Q.14  How does the “in” keyword work differently for lists and dictionaries?\n",
        "Ans- In Python, the in keyword is used to check for membership within various data structures, including lists and dictionaries. However, its behavior differs between these two types:\n",
        "\n",
        "Lists: When used with a list, in checks if a specified value exists as an element within the list. This operation has a time complexity of O(n), meaning it may require iterating through the entire list to find the value.\n",
        "Example:\n",
        "my_list = [1, 2, 3, 4]\n",
        "if 3 in my_list:\n",
        "    print(\"3 is in the list\")\n",
        "\n",
        "Dictionaries: When used with a dictionary, in checks if a specified key exists within the dictionary. This operation is generally faster, with an average time complexity of O(1), due to the underlying hash table implementation.\n",
        "Example:\n",
        "my_dict = {'a': 1, 'b': 2, 'c': 3}\n",
        "if 'b' in my_dict:\n",
        "    print(\"'b' is a key in the dictionary\")\n",
        "\n",
        "Q.15 Can you modify the elements of a tuple? Explain why or why not?\n",
        "Ans-  In Python, tuples are immutable, meaning their elements cannot be modified after creation. This immutability ensures data integrity and allows tuples to be used as keys in dictionaries.\n",
        "However, if you need to modify a tuple, you can convert it to a list, make the changes, and then convert it back to a tuple. For example:\n",
        "# Original tuple\n",
        "my_tuple = (1, 2, 3)\n",
        "\n",
        "# Convert to list\n",
        "my_list = list(my_tuple)\n",
        "\n",
        "# Modify the list\n",
        "my_list[1] = 4\n",
        "\n",
        "# Convert back to tuple\n",
        "my_tuple = tuple(my_list)\n",
        "\n",
        "print(my_tuple)  # Output: (1, 4, 3)\n",
        "\n",
        "Q.16 What is a nested dictionary, and give an example of its use case?\n",
        "Ans- A nested dictionary in Python is a dictionary where each value can be another dictionary, allowing for the representation of complex, hierarchical data structures.\n",
        "Example:\n",
        "# Nested dictionary representing a student's information\n",
        "student = {\n",
        "    'name': 'John Doe',\n",
        "    'age': 20,\n",
        "    'courses': {\n",
        "        'math': {'grade': 'A', 'credits': 3},\n",
        "        'science': {'grade': 'B+', 'credits': 4}\n",
        "    }\n",
        "}\n",
        "\n",
        "Q.17  Describe the time complexity of accessing elements in a dictionary?\n",
        "Ans- In Python, dictionaries are implemented using hash tables, which allow for efficient data retrieval. The time complexity for accessing elements in a dictionary is generally O(1), meaning that the time taken to access an element is constant, regardless of the size of the dictionary.\n",
        "\n",
        "Q.18  In what situations are lists preferred over dictionaries?\n",
        "Ans- In Python, lists are preferred over dictionaries in the following situations:\n",
        "\n",
        "Ordered Collection of Items: Use a list when you need to maintain the order of elements and access them by their position (index). Lists preserve the sequence of elements, making them suitable for tasks where the order matters.\n",
        "\n",
        "Sequential Data: When dealing with data that is inherently sequential, such as a series of numbers or a collection of items that need to be processed in a specific order, lists are ideal. They support operations like slicing and iteration, which are useful for processing sequential data.\n",
        "\n",
        "Q.19 Why are dictionaries considered unordered, and how does that affect data retrieval?\n",
        "Ans- In Python, dictionaries are considered unordered collections because they do not maintain the order of their elements. This design choice prioritizes efficient key-based access over element order.\n",
        "Impact on Data Retrieval:\n",
        "Efficient Access: Dictionaries are optimized for fast lookups using keys, typically offering average-case time complexity of O(1). This means that retrieving a value by its key is generally very quick, regardless of the dictionary's size.\n",
        "Unpredictable Iteration Order: Since dictionaries do not guarantee the order of their elements, iterating over a dictionary does not provide a predictable sequence. This can affect scenarios where the order of elements is important.\n",
        "\n",
        "Q.20 Explain the difference between a list and a dictionary in terms of data retrieval?\n",
        "Ans- In Python, lists and dictionaries differ in data retrieval:\n",
        "\n",
        "Lists: Ordered collections accessed by index. Ideal for maintaining sequence. Access time: O(1) for index-based retrieval.\n",
        "\n",
        "Dictionaries: Unordered collections of key-value pairs. Accessed by unique keys. Ideal for fast lookups. Access time: O(1) on average for key-based retrieval.\n",
        "\n",
        "Choose lists when order matters and dictionaries when quick key-based access is needed.\n",
        "keys. Ideal for fast lookups. Access time: O(1) on average for key-based retrieval.\n",
        "\n",
        "Choose lists when order matters and dictionaries when quick key-based access is needed.\n",
        "Q.1 What are data structures, and why are they important? Ans- In Python, data structures are essential constructs that organize and manage data efficiently. They include built-in types like lists, tuples, dictionaries, and sets, each serving unique purposes:\n",
        "\n",
        "Lists: Ordered, mutable collections allowing duplicate elements.\n",
        "\n",
        "Tuples: Ordered, immutable collections.\n",
        "\n",
        "Dictionaries: Unordered collections of key-value pairs for fast lookups.\n",
        "\n",
        "Sets: Unordered collections of unique elements.\n",
        "\n",
        "Choosing the appropriate data structure is crucial for writing efficient and effective Python code.\n",
        "\n",
        "Q.2 Explain the difference between mutable and immutable data types with examples? Ans- In Python, mutable and immutable data types differ in whether their values can be changed after creation.\n",
        "\n",
        "Mutable Data Types:Objects whose values can be modified after creation. Examples: Lists, dictionaries, sets. Example Code: my_list = [1, 2, 3] my_list[0] = 10 # Modifies the first element print(my_list) # Output: [10, 2, 3]\n",
        "\n",
        "Immutable Data Types:Objects whose values cannot be changed once created. Examples: Strings, tuples, integers. Example Code: my_string = \"Hello\" my_string[0] = 'Y' # Raises TypeError\n",
        "\n",
        "Attempting to modify an immutable object results in a TypeError.\n",
        "\n",
        "Q.3 What are the main differences between lists and tuples in Python? Ans- In Python, lists and tuples are both used to store collections of items, but they have key differences:\n",
        "\n",
        "a.Mutability: Lists are mutable; their elements can be changed after creation. Tuples are immutable; once created, their elements cannot be altered.\n",
        "\n",
        "b.Syntax: Lists are defined using square brackets: my_list = [1, 2, 3]. Tuples are defined using parentheses: my_tuple = (1, 2, 3).\n",
        "\n",
        "c.Performance: Tuples can be slightly faster than lists due to their immutability.\n",
        "\n",
        "Q.4 Describe how dictionaries store data? Ans-In Python, dictionaries store data as key-value pairs using a hash table mechanism. This structure allows for efficient data retrieval based on unique keys.\n",
        "\n",
        "Q.5 Why might you use a set instead of a list in Python? Ans- n Python, choosing between a set and a list depends on the specific requirements of your application. Here are key considerations:\n",
        "\n",
        "a.Uniqueness of Elements: Set: Automatically enforces uniqueness; duplicate entries are not allowed. List: Allows duplicate elements. Use a set when you need to ensure all elements are unique.\n",
        "\n",
        "b.Membership Testing Performance: Set: Offers average O(1) time complexity for membership tests due to its hash-based implementation. List: Requires O(n) time complexity for membership tests, as it performs a linear search. Use a set for efficient membership testing, especially with large datasets.\n",
        "\n",
        "c.Order Preservation: Set: Unordered collection; does not maintain element insertion order. List: Ordered collection; maintains the sequence of elements as inserted. Use a list when the order of elements is important.\n",
        "\n",
        "d.Mutability: Set: Mutable; allows adding and removing elements, but elements must be immutable and hashable. List: Mutable; allows adding, removing, and modifying elements. Use a list when you need to modify elements directly.\n",
        "\n",
        "Q.6 What is a string in Python, and how is it different from a list? Ans- In Python, strings and lists are both sequences but differ in key ways:\n",
        "\n",
        "Mutability: Strings are immutable (cannot be changed after creation), while lists are mutable (can be modified).\n",
        "\n",
        "Element Types: Strings consist solely of characters, whereas lists can contain elements of any data type.\n",
        "\n",
        "Usage: Strings are used for textual data, while lists are versatile and can store various data types.\n",
        "\n",
        "Q.7 How do tuples ensure data integrity in Python? Ans- In Python, tuples are immutable sequences, meaning their elements cannot be changed after creation. This immutability ensures data integrity by preventing accidental modifications, making tuples ideal for storing constant data.\n",
        "\n",
        "Q.8 What is a hash table, and how does it relate to dictionaries in Python? Ans- A hash table is a data structure that maps keys to values using a hash function to compute an index into an array of buckets or slots, from which the desired value can be found.\n",
        "\n",
        "In Python, dictionaries are implemented using hash tables. This means that when you create a dictionary, Python uses a hash function to determine where to store each key-value pair, allowing for efficient lookups, insertions, and deletions.\n",
        "\n",
        "The hash function computes a hash value for each key, which determines the index in the underlying array where the value is stored. This design enables average-case constant time complexity, O(1), for operations like insertion and lookup.\n",
        "\n",
        "Q.9 Can lists contain different data types in Python? Ans-Yes, in Python, lists can contain elements of different data types. This flexibility allows you to store integers, strings, floats, and even other lists within a single list. For example: my_list = [1, \"hello\", 3.14, [2, 3]]\n",
        "\n",
        "Q.10 Explain why strings are immutable in Python? Ans- In Python, strings are immutable to ensure data integrity and security. Immutability means that once a string is created, its content cannot be altered. This design choice prevents unintended modifications, making strings reliable and thread-safe.\n",
        "\n",
        "Q.11 What advantages do dictionaries offer over lists for certain tasks? Ans- Key-Value Mapping: Dictionaries store data as key-value pairs, allowing for intuitive and direct associations between related pieces of information.\n",
        "\n",
        "Q.12 Describe a scenario where using a tuple would be preferable over a list? Ans- In Python, tuples are immutable sequences, making them ideal for storing data that should remain constant throughout the program. For example, representing a fixed set of RGB color values: color = (255, 0, 0)\n",
        "\n",
        "In this case, using a tuple ensures that the color values cannot be accidentally modified, preserving data integrity. Additionally, tuples are more memory-efficient and faster to access than lists, which can be beneficial when working with large datasets.\n",
        "\n",
        "Q.13 How do sets handle duplicate values in Python? Ans- In Python, sets automatically handle duplicate values by storing only unique elements. When you add an element to a set that already contains that element, the set remains unchanged, effectively discarding the duplicate. my_set = {1, 2, 3} my_set.add(2) # Duplicate element print(my_set) # Output: {1, 2, 3}\n",
        "\n",
        "This behavior makes sets useful for ensuring that a collection contains only unique items.\n",
        "\n",
        "Q.14 How does the “in” keyword work differently for lists and dictionaries? Ans- In Python, the in keyword is used to check for membership within various data structures, including lists and dictionaries. However, its behavior differs between these two types:\n",
        "\n",
        "Lists: When used with a list, in checks if a specified value exists as an element within the list. This operation has a time complexity of O(n), meaning it may require iterating through the entire list to find the value. Example: my_list = [1, 2, 3, 4] if 3 in my_list: print(\"3 is in the list\")\n",
        "\n",
        "Dictionaries: When used with a dictionary, in checks if a specified key exists within the dictionary. This operation is generally faster, with an average time complexity of O(1), due to the underlying hash table implementation. Example: my_dict = {'a': 1, 'b': 2, 'c': 3} if 'b' in my_dict: print(\"'b' is a key in the dictionary\")\n",
        "\n",
        "Q.15 Can you modify the elements of a tuple? Explain why or why not? Ans- In Python, tuples are immutable, meaning their elements cannot be modified after creation. This immutability ensures data integrity and allows tuples to be used as keys in dictionaries. However, if you need to modify a tuple, you can convert it to a list, make the changes, and then convert it back to a tuple. For example:\n",
        "\n",
        "Original tuple\n",
        "my_tuple = (1, 2, 3)\n",
        "\n",
        "Convert to list\n",
        "my_list = list(my_tuple)\n",
        "\n",
        "Modify the list\n",
        "my_list[1] = 4\n",
        "\n",
        "Convert back to tuple\n",
        "my_tuple = tuple(my_list)\n",
        "\n",
        "print(my_tuple) # Output: (1, 4, 3)\n",
        "\n",
        "Q.16 What is a nested dictionary, and give an example of its use case? Ans- A nested dictionary in Python is a dictionary where each value can be another dictionary, allowing for the representation of complex, hierarchical data structures. Example:\n",
        "\n",
        "Nested dictionary representing a student's information\n",
        "student = { 'name': 'John Doe', 'age': 20, 'courses': { 'math': {'grade': 'A', 'credits': 3}, 'science': {'grade': 'B+', 'credits': 4} } }\n",
        "\n",
        "Q.17 Describe the time complexity of accessing elements in a dictionary? Ans- In Python, dictionaries are implemented using hash tables, which allow for efficient data retrieval. The time complexity for accessing elements in a dictionary is generally O(1), meaning that the time taken to access an element is constant, regardless of the size of the dictionary.\n",
        "\n",
        "Q.18 In what situations are lists preferred over dictionaries? Ans- In Python, lists are preferred over dictionaries in the following situations:\n",
        "\n",
        "Ordered Collection of Items: Use a list when you need to maintain the order of elements and access them by their position (index). Lists preserve the sequence of elements, making them suitable for tasks where the order matters.\n",
        "\n",
        "Sequential Data: When dealing with data that is inherently sequential, such as a series of numbers or a collection of items that need to be processed in a specific order, lists are ideal. They support operations like slicing and iteration, which are useful for processing sequential data.\n",
        "\n",
        "Q.19 Why are dictionaries considered unordered, and how does that affect data retrieval? Ans- In Python, dictionaries are considered unordered collections because they do not maintain the order of their elements. This design choice prioritizes efficient key-based access over element order. Impact on Data Retrieval: Efficient Access: Dictionaries are optimized for fast lookups using keys, typically offering average-case time complexity of O(1). This means that retrieving a value by its key is generally very quick, regardless of the dictionary's size. Unpredictable Iteration Order: Since dictionaries do not guarantee the order of their elements, iterating over a dictionary does not provide a predictable sequence. This can affect scenarios where the order of elements is important.\n",
        "\n",
        "Q.20 Explain the difference between a list and a dictionary in terms of data retrieval? Ans- In Python, lists and dictionaries differ in data retrieval:\n",
        "\n",
        "Lists: Ordered collections accessed by index. Ideal for maintaining sequence. Access time: O(1) for index-based retrieval.\n",
        "\n",
        "Dictionaries: Unordered collections of key-value pairs. Accessed by unique keys. Ideal for fast lookups. Access time: O(1) on average for key-based retrieval.\n",
        "\n",
        "Choose lists when order matters and dictionaries when quick key-based access is needed.\n",
        "\n"
      ],
      "metadata": {
        "id": "DnChCGpbty6Z"
      }
    },
    {
      "cell_type": "code",
      "source": [
        "# PRACTICAL QUESTIONS\n",
        "\n",
        "# Q.1 Write a code to create a string with your name and print it?\n",
        "my_name = \"Shashank Shukla\"\n",
        "\n",
        "print(my_name)\n"
      ],
      "metadata": {
        "colab": {
          "base_uri": "https://localhost:8080/"
        },
        "id": "5zpCT_fa5SVl",
        "outputId": "051b1170-6491-4bcd-e379-69c532d45084"
      },
      "execution_count": 1,
      "outputs": [
        {
          "output_type": "stream",
          "name": "stdout",
          "text": [
            "Shashank Shukla\n"
          ]
        }
      ]
    },
    {
      "cell_type": "code",
      "source": [
        "# Q.2 Write a code to find the length of the string \"Hello World\"?\n",
        "my_string = \"Hello World\"\n",
        "length = len(my_string)\n",
        "print(length)\n"
      ],
      "metadata": {
        "colab": {
          "base_uri": "https://localhost:8080/"
        },
        "id": "irdexYjM506S",
        "outputId": "e7dbde36-ef93-46b6-a5f0-ef77afb9033c"
      },
      "execution_count": 2,
      "outputs": [
        {
          "output_type": "stream",
          "name": "stdout",
          "text": [
            "11\n"
          ]
        }
      ]
    },
    {
      "cell_type": "markdown",
      "source": [],
      "metadata": {
        "id": "qsED25Xy3WYp"
      }
    },
    {
      "cell_type": "code",
      "source": [
        "# Q.3 Write a code to slice the first 3 characters from the string \"Python Programming\"?\n",
        "\n",
        "my_string = \"Python Programming\"\n",
        "substring = my_string[:3]\n",
        "print(substring)\n"
      ],
      "metadata": {
        "colab": {
          "base_uri": "https://localhost:8080/"
        },
        "id": "Y8JXdEGK6FkL",
        "outputId": "3a0ff4d3-c47f-4b82-b0c1-d9439f83083f"
      },
      "execution_count": 3,
      "outputs": [
        {
          "output_type": "stream",
          "name": "stdout",
          "text": [
            "Pyt\n"
          ]
        }
      ]
    },
    {
      "cell_type": "code",
      "source": [
        "# Q.4 Write a code to convert the string \"hello\" to uppercase?\n",
        "my_string = \"hello\"\n",
        "uppercase_string = my_string.upper()\n",
        "print(uppercase_string)"
      ],
      "metadata": {
        "colab": {
          "base_uri": "https://localhost:8080/"
        },
        "id": "lhJutVtw6VbS",
        "outputId": "f9676bb2-719e-4066-93d5-103aae854857"
      },
      "execution_count": 4,
      "outputs": [
        {
          "output_type": "stream",
          "name": "stdout",
          "text": [
            "HELLO\n"
          ]
        }
      ]
    },
    {
      "cell_type": "code",
      "source": [
        "# Q.5 Write a code to replace the word \"apple\" with \"orange\" in the string \"I like apple\"?\n",
        "my_string = \"I like apple\"\n",
        "new_string = my_string.replace(\"apple\", \"orange\")\n",
        "print(new_string)"
      ],
      "metadata": {
        "colab": {
          "base_uri": "https://localhost:8080/"
        },
        "id": "QGLrIAPO6ds_",
        "outputId": "bc4068c0-3881-455b-c837-5a3661572c0f"
      },
      "execution_count": 5,
      "outputs": [
        {
          "output_type": "stream",
          "name": "stdout",
          "text": [
            "I like orange\n"
          ]
        }
      ]
    },
    {
      "cell_type": "code",
      "source": [
        "# Q.6 Write a code to create a list with numbers 1 to 5 and print it?\n",
        "my_list = [1, 2, 3, 4, 5]\n",
        "print(my_list)"
      ],
      "metadata": {
        "colab": {
          "base_uri": "https://localhost:8080/"
        },
        "id": "-X5MyM4d6rg3",
        "outputId": "af732eaa-48a1-4c1d-c4ef-c99f76f85e34"
      },
      "execution_count": 6,
      "outputs": [
        {
          "output_type": "stream",
          "name": "stdout",
          "text": [
            "[1, 2, 3, 4, 5]\n"
          ]
        }
      ]
    },
    {
      "cell_type": "code",
      "source": [
        "# Q.7 Write a code to append the number 10 to the list [1, 2, 3, 4]?\n",
        "my_list = [1, 2, 3, 4]\n",
        "my_list.append(10)\n",
        "print(my_list)"
      ],
      "metadata": {
        "colab": {
          "base_uri": "https://localhost:8080/"
        },
        "id": "Zq4gtlC263s0",
        "outputId": "b29469d4-0ef9-40c7-824d-a1b619db6903"
      },
      "execution_count": 7,
      "outputs": [
        {
          "output_type": "stream",
          "name": "stdout",
          "text": [
            "[1, 2, 3, 4, 10]\n"
          ]
        }
      ]
    },
    {
      "cell_type": "code",
      "source": [
        "# Q.8 Write a code to remove the number 3 from the list [1, 2, 3, 4, 5]?\n",
        "my_list = [1, 2, 3, 4, 5]\n",
        "my_list.remove(3)\n",
        "print(my_list)"
      ],
      "metadata": {
        "colab": {
          "base_uri": "https://localhost:8080/"
        },
        "id": "pKNf_3eW7UGA",
        "outputId": "23c0de2f-dedf-4b85-adde-877f0132b9ff"
      },
      "execution_count": 8,
      "outputs": [
        {
          "output_type": "stream",
          "name": "stdout",
          "text": [
            "[1, 2, 4, 5]\n"
          ]
        }
      ]
    },
    {
      "cell_type": "code",
      "source": [
        "# Q.9 Write a code to access the second element in the list ['a', 'b', 'c', 'd']?\n",
        "my_list = ['a', 'b', 'c', 'd']\n",
        "second_element = my_list[1]\n",
        "print(second_element)"
      ],
      "metadata": {
        "colab": {
          "base_uri": "https://localhost:8080/"
        },
        "id": "iPFZwx_f7clz",
        "outputId": "b0b2189f-3b23-4f66-80f4-4f6f67467921"
      },
      "execution_count": 9,
      "outputs": [
        {
          "output_type": "stream",
          "name": "stdout",
          "text": [
            "b\n"
          ]
        }
      ]
    },
    {
      "cell_type": "code",
      "source": [
        "# Q.10 Write a code to reverse the list [10, 20, 30, 40, 50]?\n",
        "my_list = [10, 20, 30, 40, 50]\n",
        "my_list.reverse()\n",
        "print(my_list)"
      ],
      "metadata": {
        "colab": {
          "base_uri": "https://localhost:8080/"
        },
        "id": "OFjZEBOs7lLB",
        "outputId": "694d815b-53ab-4014-b95a-d0a5fcd23562"
      },
      "execution_count": 13,
      "outputs": [
        {
          "output_type": "stream",
          "name": "stdout",
          "text": [
            "[50, 40, 30, 20, 10]\n"
          ]
        }
      ]
    },
    {
      "cell_type": "code",
      "source": [
        "# Q.11  Write a code to create a tuple with the elements 10, 20, 30 and print it.\n",
        "my_tuple = (10, 20, 30)\n",
        "print(my_tuple)"
      ],
      "metadata": {
        "colab": {
          "base_uri": "https://localhost:8080/"
        },
        "id": "tS0hTtOY7qQR",
        "outputId": "4542aa1f-3d6f-42a2-ed36-a4ea1fcee087"
      },
      "execution_count": 14,
      "outputs": [
        {
          "output_type": "stream",
          "name": "stdout",
          "text": [
            "(10, 20, 30)\n"
          ]
        }
      ]
    },
    {
      "cell_type": "code",
      "source": [
        "# Q.12  Write a code to access the first element of the tuple ('apple', 'banana', 'cherry')?\n",
        "my_tuple = ('apple', 'banana', 'cherry')\n",
        "first_element = my_tuple[0]\n",
        "print(first_element)"
      ],
      "metadata": {
        "colab": {
          "base_uri": "https://localhost:8080/"
        },
        "id": "H8wObsP278bS",
        "outputId": "8b5fe032-62ff-4487-a3e6-1907ab8343f7"
      },
      "execution_count": 15,
      "outputs": [
        {
          "output_type": "stream",
          "name": "stdout",
          "text": [
            "apple\n"
          ]
        }
      ]
    },
    {
      "cell_type": "code",
      "source": [
        "# Q.13  Write a code to count how many times the number 2 appears in the tuple (1, 2, 3, 2, 4, 2)?\n",
        "my_tuple = (1, 2, 3, 2, 4, 2)\n",
        "count = my_tuple.count(2)\n",
        "print(count)"
      ],
      "metadata": {
        "colab": {
          "base_uri": "https://localhost:8080/"
        },
        "id": "xSfvK8t-8Fn2",
        "outputId": "b6e38189-a666-4972-e09f-9d5b36043915"
      },
      "execution_count": 16,
      "outputs": [
        {
          "output_type": "stream",
          "name": "stdout",
          "text": [
            "3\n"
          ]
        }
      ]
    },
    {
      "cell_type": "code",
      "source": [
        "# Q.14 Write a code to find the index of the element \"cat\" in the tuple ('dog', 'cat', 'rabbit')?\n",
        "my_tuple = ('dog', 'cat', 'rabbit')\n",
        "index = my_tuple.index('cat')\n",
        "print(index)"
      ],
      "metadata": {
        "colab": {
          "base_uri": "https://localhost:8080/"
        },
        "id": "JCG1Unbx8M7W",
        "outputId": "36e558fc-b444-4b66-d14d-d2c927fb877e"
      },
      "execution_count": 17,
      "outputs": [
        {
          "output_type": "stream",
          "name": "stdout",
          "text": [
            "1\n"
          ]
        }
      ]
    },
    {
      "cell_type": "code",
      "source": [
        "# Q.15 Write a code to check if the element \"banana\" is in the tuple ('apple', 'orange', 'banana')?\n",
        "my_tuple = ('apple', 'orange', 'banana')\n",
        "if 'banana' in my_tuple:\n",
        "    print(\"banana is in the tuple\")"
      ],
      "metadata": {
        "colab": {
          "base_uri": "https://localhost:8080/"
        },
        "id": "vWv-DB4Q8T44",
        "outputId": "5d582816-6198-4184-b396-7b9d34ba3348"
      },
      "execution_count": 18,
      "outputs": [
        {
          "output_type": "stream",
          "name": "stdout",
          "text": [
            "banana is in the tuple\n"
          ]
        }
      ]
    },
    {
      "cell_type": "code",
      "source": [
        "# Q.16 Write a code to create a set with the elements 1, 2, 3, 4, 5 and print it?\n",
        "my_set = {1, 2, 3, 4, 5}\n",
        "print(my_set)"
      ],
      "metadata": {
        "colab": {
          "base_uri": "https://localhost:8080/"
        },
        "id": "uCdLBRWW8b68",
        "outputId": "0e291743-2185-4c4a-a749-2c0af696892f"
      },
      "execution_count": 19,
      "outputs": [
        {
          "output_type": "stream",
          "name": "stdout",
          "text": [
            "{1, 2, 3, 4, 5}\n"
          ]
        }
      ]
    },
    {
      "cell_type": "code",
      "source": [
        "# Q.17  Write a code to add the element 6 to the set {1, 2, 3, 4}?\n",
        "my_set = {1, 2, 3, 4}\n",
        "my_set.add(6)\n",
        "print(my_set)"
      ],
      "metadata": {
        "id": "2nGIJcpf8h96"
      },
      "execution_count": null,
      "outputs": []
    },
    {
      "cell_type": "code",
      "source": [
        "# Q.18 Write a code to create a tuple with the elements 10, 20, 30 and print it?\n",
        "my_tuple = (10, 20, 30)\n",
        "print(my_tuple)"
      ],
      "metadata": {
        "id": "lzE9-R0d8nBH"
      },
      "execution_count": null,
      "outputs": []
    },
    {
      "cell_type": "code",
      "source": [
        "# Q.19 Write a code to access the first element of the tuple ('apple', 'banana', 'cherry')?\n",
        "my_tuple = ('apple', 'banana', 'cherry')\n",
        "first_element = my_tuple[0]\n",
        "print(first_element)"
      ],
      "metadata": {
        "id": "Ddro-e3s8t3Z"
      },
      "execution_count": null,
      "outputs": []
    },
    {
      "cell_type": "code",
      "source": [
        "# Q.20  Write a code to count how many times the number 2 appears in the tuple (1, 2, 3, 2, 4, 2)?\n",
        "my_tuple = (1, 2, 3, 2, 4, 2)\n",
        "count = my_tuple.count(2)\n",
        "print(count)"
      ],
      "metadata": {
        "id": "n5kewbQw80Ub"
      },
      "execution_count": null,
      "outputs": []
    },
    {
      "cell_type": "code",
      "source": [
        "# Q.21  Write a code to find the index of the element \"cat\" in the tuple ('dog', 'cat', 'rabbit')?\n",
        "my_tuple = ('dog', 'cat', 'rabbit')\n",
        "index = my_tuple.index('cat')\n",
        "print(index)"
      ],
      "metadata": {
        "id": "Mjq58tmj87LP"
      },
      "execution_count": null,
      "outputs": []
    },
    {
      "cell_type": "code",
      "source": [
        "# Q.22 Write a code to check if the element \"banana\" is in the tuple ('apple', 'orange', 'banana')?\n",
        "my_tuple = ('apple', 'orange', 'banana')\n",
        "if 'banana' in my_tuple:\n",
        "    print(\"banana is in the tuple\")"
      ],
      "metadata": {
        "id": "4O8Yg2bJ9BkF"
      },
      "execution_count": null,
      "outputs": []
    },
    {
      "cell_type": "code",
      "source": [
        "# Q.23 Write a code to create a set with the elements 1, 2, 3, 4, 5 and print it?\n",
        "my_set = {1, 2, 3, 4, 5}\n",
        "print(my_set)"
      ],
      "metadata": {
        "id": "0zS3AauH9G-8"
      },
      "execution_count": null,
      "outputs": []
    },
    {
      "cell_type": "code",
      "source": [
        "# Q.24 Write a code to add the element 6 to the set {1, 2, 3, 4}?\n",
        "my_set = {1, 2, 3, 4}\n",
        "my_set.add(6)\n",
        "print(my_set)"
      ],
      "metadata": {
        "id": "ApXZLt039Lrw"
      },
      "execution_count": null,
      "outputs": []
    },
    {
      "cell_type": "code",
      "execution_count": null,
      "metadata": {
        "id": "8_znz-oNtcuW"
      },
      "outputs": [],
      "source": []
    }
  ]
}